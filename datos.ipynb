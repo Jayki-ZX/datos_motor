{
 "cells": [
  {
   "cell_type": "markdown",
   "metadata": {},
   "source": [
    "Load and process data\n"
   ]
  },
  {
   "cell_type": "code",
   "execution_count": 2,
   "metadata": {},
   "outputs": [
    {
     "name": "stdout",
     "output_type": "stream",
     "text": [
      "       row_num  sensor_id     acc_x     acc_y     acc_z     gyr_x      gyr_y  \\\n",
      "0            1          1  0.000000  0.000000  0.000000  0.000000   0.000000   \n",
      "1            2          1  0.000000  0.000000  0.000000  0.000000   0.000000   \n",
      "2            3          1  0.000000  0.000000  0.000000  0.000000   0.000000   \n",
      "3            4          1  0.000000  0.000000  0.000000  0.000000   0.000000   \n",
      "4            5          1  0.000000  0.000000  0.000000  0.000000   0.000000   \n",
      "...        ...        ...       ...       ...       ...       ...        ...   \n",
      "47995    47996          2  0.066298 -0.168324 -0.633886  0.293923 -12.069245   \n",
      "47996    47997          2  0.004788 -0.170166 -0.660773  0.293923 -12.069245   \n",
      "47997    47998          2  0.004788 -0.170166 -0.660773  0.293923 -12.069245   \n",
      "47998    47999          2  0.004788 -0.170166 -0.660773  0.293923 -12.069245   \n",
      "47999    48000          2 -0.069613 -0.171639 -0.709761  0.293923 -12.069245   \n",
      "\n",
      "          gyr_z       state  \n",
      "0      0.000000  unbalanced  \n",
      "1      0.000000  unbalanced  \n",
      "2      0.000000  unbalanced  \n",
      "3      0.000000  unbalanced  \n",
      "4      0.000000  unbalanced  \n",
      "...         ...         ...  \n",
      "47995 -0.163904    balanced  \n",
      "47996 -0.163904    balanced  \n",
      "47997 -0.163904    balanced  \n",
      "47998 -0.163904    balanced  \n",
      "47999 -0.163904    balanced  \n",
      "\n",
      "[112000 rows x 9 columns]\n"
     ]
    }
   ],
   "source": [
    "import pandas as pd\n",
    "import matplotlib.pyplot as plt\n",
    "\n",
    "\n",
    "df1 = pd.read_csv('10hz_debalan.csv', \\\n",
    "    names=['row_num', 'sensor_id', 'acc_x', 'acc_y', 'acc_z',\\\n",
    "            'gyr_x', 'gyr_y', 'gyr_z', 'datetime'], sep=';')\n",
    "\n",
    "df1['state'] = 'unbalanced'\n",
    "df1['acc_x'] = df1['acc_x'] / 2715\n",
    "df1['acc_y'] = df1['acc_y'] / 2715\n",
    "df1['acc_z'] = df1['acc_z'] / 2715\n",
    "df1['gyr_x'] = df1['gyr_x'] / 2715\n",
    "df1['gyr_y'] = df1['gyr_y'] / 2715\n",
    "df1['gyr_z'] = df1['gyr_z'] / 2715\n",
    "df1['datetime'] = pd.to_datetime(df1['datetime'])\n",
    "df1 = df1.drop('datetime', axis=1)\n",
    "\n",
    "df2 = pd.read_csv('10hz.csv', \\\n",
    "    names=['row_num', 'sensor_id', 'acc_x', 'acc_y', 'acc_z',\\\n",
    "            'gyr_x', 'gyr_y', 'gyr_z', 'datetime'], sep=';')\n",
    "\n",
    "df2['state'] = 'balanced'\n",
    "df2['acc_x'] = df2['acc_x'] / 2715\n",
    "df2['acc_y'] = df2['acc_y'] / 2715\n",
    "df2['acc_z'] = df2['acc_z'] / 2715\n",
    "df2['gyr_x'] = df2['gyr_x'] / 2715\n",
    "df2['gyr_y'] = df2['gyr_y'] / 2715\n",
    "df2['gyr_z'] = df2['gyr_z'] / 2715\n",
    "df2['datetime'] = pd.to_datetime(df2['datetime'])\n",
    "df2 = df2.drop('datetime', axis=1)\n",
    "\n",
    "df = pd.concat(axis=0, objs=[df1, df2])\n",
    "print(df)\n",
    "\n"
   ]
  },
  {
   "cell_type": "code",
   "execution_count": 4,
   "metadata": {},
   "outputs": [
    {
     "name": "stdout",
     "output_type": "stream",
     "text": [
      "Accuracy: 0.9420089285714286\n"
     ]
    }
   ],
   "source": [
    "\n",
    "# random forest\n",
    "from sklearn.ensemble import RandomForestClassifier\n",
    "from sklearn.model_selection import train_test_split\n",
    "\n",
    "X = df.drop('state', axis=1)  # Features\n",
    "y = df['state']  # Target variable\n",
    "X_train, X_test, y_train, y_test = train_test_split(X, y, test_size=0.2, random_state=42)\n",
    "\n",
    "\n",
    "model = RandomForestClassifier(n_estimators=100, random_state=42)\n",
    "model.fit(X_train, y_train)\n",
    "\n",
    "predictions = model.predict(X_test)\n",
    "\n",
    "from sklearn.metrics import accuracy_score\n",
    "\n",
    "accuracy = accuracy_score(y_test, predictions)\n",
    "print(f'Accuracy: {accuracy}')"
   ]
  },
  {
   "cell_type": "code",
   "execution_count": 3,
   "metadata": {},
   "outputs": [],
   "source": [
    "# svm\n",
    "from sklearn import svm\n",
    "from sklearn.model_selection import train_test_split\n",
    "from sklearn.metrics import accuracy_score\n",
    "xx = df.drop('state', axis=1)  # Features\n",
    "y = df['state']  # Target variable\n",
    "\n",
    "X_train, X_test, y_train, y_test = train_test_split(xx, y, test_size=0.2, random_state=42)\n",
    "model = svm.SVC(kernel='linear', C=1)\n",
    "# For regression\n",
    "# model = svm.SVR(kernel='linear', C=1)\n",
    "\n",
    "model.fit(X_train, y_train)\n",
    "predictions = model.predict(X_test)\n",
    "accuracy = accuracy_score(y_test, predictions)\n",
    "print(f'Accuracy: {accuracy}')"
   ]
  },
  {
   "cell_type": "code",
   "execution_count": null,
   "metadata": {},
   "outputs": [],
   "source": [
    "# rms\n",
    "\n",
    "# peaks"
   ]
  },
  {
   "cell_type": "code",
   "execution_count": null,
   "metadata": {},
   "outputs": [],
   "source": [
    "# fft\n",
    "import numpy as np\n",
    "import matplotlib.pyplot as plt\n",
    "\n",
    "# Generate example acceleration data (replace this with your own data)\n",
    "sampling_rate = 1000  # 1000 samples per second\n",
    "total_time = 10  # 10 seconds\n",
    "t = np.linspace(0, total_time, int(sampling_rate * total_time), endpoint=False)  # Time array\n",
    "acceleration_data = 2.0 * np.sin(2 * np.pi * 5 * t) + 1.5 * np.sin(2 * np.pi * 20 * t)\n",
    "\n",
    "# Compute FFT\n",
    "fft_result = np.fft.fft(acceleration_data)\n",
    "frequencies = np.fft.fftfreq(len(acceleration_data), 1/sampling_rate)\n",
    "\n",
    "# Plot the original signal and its FFT\n",
    "plt.figure(figsize=(12, 6))\n",
    "\n",
    "plt.subplot(2, 1, 1)\n",
    "plt.plot(t, acceleration_data)\n",
    "plt.title('Original Acceleration Data')\n",
    "plt.xlabel('Time (seconds)')\n",
    "plt.ylabel('Acceleration')\n",
    "\n",
    "plt.subplot(2, 1, 2)\n",
    "plt.plot(frequencies, np.abs(fft_result))\n",
    "plt.title('FFT of Acceleration Data')\n",
    "plt.xlabel('Frequency (Hz)')\n",
    "plt.ylabel('Amplitude')\n",
    "\n",
    "plt.tight_layout()\n",
    "plt.show()"
   ]
  },
  {
   "cell_type": "markdown",
   "metadata": {},
   "source": [
    "Show results"
   ]
  },
  {
   "cell_type": "code",
   "execution_count": null,
   "metadata": {},
   "outputs": [],
   "source": [
    "# figure, axis = plt.subplots(2, 1)\n",
    "\n",
    "# axis[0].plot(datetimes, acc_x)\n",
    "# axis[1].plot(datetimes, df1['acc_x'])\n",
    "# plt.show()"
   ]
  }
 ],
 "metadata": {
  "kernelspec": {
   "display_name": "Python 3",
   "language": "python",
   "name": "python3"
  },
  "language_info": {
   "codemirror_mode": {
    "name": "ipython",
    "version": 3
   },
   "file_extension": ".py",
   "mimetype": "text/x-python",
   "name": "python",
   "nbconvert_exporter": "python",
   "pygments_lexer": "ipython3",
   "version": "3.9.5"
  }
 },
 "nbformat": 4,
 "nbformat_minor": 2
}
