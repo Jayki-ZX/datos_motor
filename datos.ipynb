{
 "cells": [
  {
   "cell_type": "markdown",
   "metadata": {},
   "source": [
    "Load and process data\n"
   ]
  },
  {
   "cell_type": "code",
   "execution_count": 2,
   "metadata": {},
   "outputs": [],
   "source": [
    "import pandas as pd\n",
    "\n",
    "def merge_dfs(df1, df2):\n",
    "    return pd.concat(axis=0, objs=[df1, df2])\n",
    "\n",
    "def read_motor_csv(name, state):\n",
    "    df = pd.read_csv(name, \\\n",
    "    names=['row_num', 'sensor_id', 'acc_x', 'acc_y', 'acc_z',\\\n",
    "            'gyr_x', 'gyr_y', 'gyr_z', 'datetime'], sep=';')\n",
    "    \n",
    "    df['state'] = state\n",
    "    df['acc_x'] = df['acc_x'] / 2715\n",
    "    df['acc_y'] = df['acc_y'] / 2715\n",
    "    df['acc_z'] = df['acc_z'] / 2715\n",
    "    df['gyr_x'] = df['gyr_x'] / 2715\n",
    "    df['gyr_y'] = df['gyr_y'] / 2715\n",
    "    df['gyr_z'] = df['gyr_z'] / 2715\n",
    "    df['datetime'] = pd.to_datetime(df['datetime'])\n",
    "    return df\n",
    "\n",
    "main_df = read_motor_csv('5hz_desbalance.csv', 'unbalanced')\n",
    "main_df = merge_dfs(main_df, read_motor_csv('7hz.csv', 'balanced'))\n",
    "main_df = merge_dfs(main_df, read_motor_csv('10hz_desbalan.csv', 'unbalanced'))\n",
    "main_df = merge_dfs(main_df, read_motor_csv('10hz.csv', 'balanced'))\n",
    "main_df = merge_dfs(main_df, read_motor_csv('15hz_desbalan.csv', 'unbalanced'))\n",
    "main_df = merge_dfs(main_df, read_motor_csv('15hz.csv', 'balanced'))\n",
    "main_df = merge_dfs(main_df, read_motor_csv('20hz_50g.csv', 'balanced')) # este es balanced?\n",
    "main_df = merge_dfs(main_df, read_motor_csv('20hz_desbalan.csv', 'unbalanced'))\n",
    "main_df = merge_dfs(main_df, read_motor_csv('20hz.csv', 'balanced'))\n",
    "main_df = merge_dfs(main_df, read_motor_csv('señal_impulso.csv', 'unbalanced')) # este cuenta como unbalanced?\n",
    "\n",
    "# print(main_df)\n"
   ]
  },
  {
   "cell_type": "code",
   "execution_count": 5,
   "metadata": {},
   "outputs": [
    {
     "data": {
      "image/png": "[encoded data removed]",
      "text/plain": [
       "<Figure size 432x288 with 1 Axes>"
      ]
     },
     "metadata": {
      "needs_background": "light"
     },
     "output_type": "display_data"
    }
   ],
   "source": [
    "# general data analyisis\n",
    "import matplotlib.pyplot as plt\n",
    "\n",
    "main_df = main_df.sort_values('datetime')\n",
    "plt.plot(main_df['datetime'], main_df['acc_x'])\n",
    "plt.savefig('asd.png')"
   ]
  },
  {
   "cell_type": "code",
   "execution_count": 12,
   "metadata": {},
   "outputs": [
    {
     "name": "stdout",
     "output_type": "stream",
     "text": [
      "Accuracy: 0.9610721279373368\n"
     ]
    }
   ],
   "source": [
    "\n",
    "# random forest\n",
    "from sklearn.ensemble import RandomForestClassifier\n",
    "from sklearn.model_selection import train_test_split\n",
    "\n",
    "df = main_df.drop(axis=0, columns=['datetime'])\n",
    "X = df.drop('state', axis=1)  # Features\n",
    "y = df['state']  # Target variable\n",
    "X_train, X_test, y_train, y_test = train_test_split(X, y, test_size=0.2, random_state=42)\n",
    "\n",
    "\n",
    "model = RandomForestClassifier(n_estimators=100, random_state=42, max_features=6)\n",
    "model.fit(X_train, y_train)\n",
    "\n",
    "predictions = model.predict(X_test)\n",
    "\n",
    "from sklearn.metrics import accuracy_score\n",
    "\n",
    "accuracy = accuracy_score(y_test, predictions)\n",
    "print(f'Accuracy: {accuracy}')"
   ]
  },
  {
   "cell_type": "code",
   "execution_count": 3,
   "metadata": {},
   "outputs": [],
   "source": [
    "# svm\n",
    "from sklearn import svm\n",
    "from sklearn.model_selection import train_test_split\n",
    "from sklearn.metrics import accuracy_score\n",
    "df = main_df.drop(axis=0, columns=['datetime'])\n",
    "xx = df.drop('state', axis=1)  # Features\n",
    "y = df['state']  # Target variable\n",
    "\n",
    "X_train, X_test, y_train, y_test = train_test_split(xx, y, test_size=0.2, random_state=42)\n",
    "model = svm.SVC(kernel='linear', C=1)\n",
    "# For regression\n",
    "# model = svm.SVR(kernel='linear', C=1)\n",
    "\n",
    "model.fit(X_train, y_train)\n",
    "predictions = model.predict(X_test)\n",
    "accuracy = accuracy_score(y_test, predictions)\n",
    "print(f'Accuracy: {accuracy}')"
   ]
  },
  {
   "cell_type": "code",
   "execution_count": 3,
   "metadata": {},
   "outputs": [
    {
     "name": "stdout",
     "output_type": "stream",
     "text": [
      "Accuracy: 0.5894745430809399\n",
      "Classification Report:\n",
      "              precision    recall  f1-score   support\n",
      "\n",
      "    balanced       0.56      0.89      0.69     61814\n",
      "  unbalanced       0.72      0.28      0.40     60746\n",
      "\n",
      "    accuracy                           0.59    122560\n",
      "   macro avg       0.64      0.59      0.55    122560\n",
      "weighted avg       0.64      0.59      0.55    122560\n",
      "\n"
     ]
    }
   ],
   "source": [
    "# naive bayes\n",
    "# Import necessary libraries\n",
    "from sklearn.model_selection import train_test_split\n",
    "from sklearn.naive_bayes import GaussianNB\n",
    "from sklearn.metrics import accuracy_score, classification_report\n",
    "from sklearn import datasets\n",
    "\n",
    "# Load a dataset for illustration (you can replace this with your own dataset)\n",
    "df = main_df.drop(columns=['datetime'], axis=0)\n",
    "X = df.drop('state', axis=1)  # Features\n",
    "y = df['state']  # Target variable\n",
    "\n",
    "# Split the data into training and testing sets\n",
    "X_train, X_test, y_train, y_test = train_test_split(X, y, test_size=0.2, random_state=42)\n",
    "\n",
    "# Initialize the Gaussian Naive Bayes classifier\n",
    "naive_bayes_classifier = GaussianNB()\n",
    "\n",
    "# Train the classifier on the training data\n",
    "naive_bayes_classifier.fit(X_train, y_train)\n",
    "\n",
    "# Make predictions on the test data\n",
    "predictions = naive_bayes_classifier.predict(X_test)\n",
    "\n",
    "# Evaluate the accuracy of the model\n",
    "accuracy = accuracy_score(y_test, predictions)\n",
    "print(f\"Accuracy: {accuracy}\")\n",
    "\n",
    "# Print a classification report\n",
    "print(\"Classification Report:\")\n",
    "print(classification_report(y_test, predictions))"
   ]
  },
  {
   "cell_type": "code",
   "execution_count": null,
   "metadata": {},
   "outputs": [],
   "source": [
    "# rms\n",
    "\n",
    "# peaks"
   ]
  },
  {
   "cell_type": "code",
   "execution_count": null,
   "metadata": {},
   "outputs": [],
   "source": [
    "# fft\n",
    "import numpy as np\n",
    "import matplotlib.pyplot as plt\n",
    "\n",
    "# Generate example acceleration data (replace this with your own data)\n",
    "sampling_rate = 1000  # 1000 samples per second\n",
    "total_time = 10  # 10 seconds\n",
    "t = np.linspace(0, total_time, int(sampling_rate * total_time), endpoint=False)  # Time array\n",
    "acceleration_data = 2.0 * np.sin(2 * np.pi * 5 * t) + 1.5 * np.sin(2 * np.pi * 20 * t)\n",
    "\n",
    "# Compute FFT\n",
    "fft_result = np.fft.fft(acceleration_data)\n",
    "frequencies = np.fft.fftfreq(len(acceleration_data), 1/sampling_rate)\n",
    "\n",
    "# Plot the original signal and its FFT\n",
    "plt.figure(figsize=(12, 6))\n",
    "\n",
    "plt.subplot(2, 1, 1)\n",
    "plt.plot(t, acceleration_data)\n",
    "plt.title('Original Acceleration Data')\n",
    "plt.xlabel('Time (seconds)')\n",
    "plt.ylabel('Acceleration')\n",
    "\n",
    "plt.subplot(2, 1, 2)\n",
    "plt.plot(frequencies, np.abs(fft_result))\n",
    "plt.title('FFT of Acceleration Data')\n",
    "plt.xlabel('Frequency (Hz)')\n",
    "plt.ylabel('Amplitude')\n",
    "\n",
    "plt.tight_layout()\n",
    "plt.show()"
   ]
  },
  {
   "cell_type": "markdown",
   "metadata": {},
   "source": [
    "Show results"
   ]
  },
  {
   "cell_type": "code",
   "execution_count": null,
   "metadata": {},
   "outputs": [],
   "source": [
    "# figure, axis = plt.subplots(2, 1)\n",
    "\n",
    "# axis[0].plot(datetimes, acc_x)\n",
    "# axis[1].plot(datetimes, df1['acc_x'])\n",
    "# plt.show()"
   ]
  }
 ],
 "metadata": {
  "kernelspec": {
   "display_name": "Python 3",
   "language": "python",
   "name": "python3"
  },
  "language_info": {
   "codemirror_mode": {
    "name": "ipython",
    "version": 3
   },
   "file_extension": ".py",
   "mimetype": "text/x-python",
   "name": "python",
   "nbconvert_exporter": "python",
   "pygments_lexer": "ipython3",
   "version": "3.9.5"
  }
 },
 "nbformat": 4,
 "nbformat_minor": 2
}
